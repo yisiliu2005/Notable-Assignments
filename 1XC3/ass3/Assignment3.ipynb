{
  "nbformat": 4,
  "nbformat_minor": 0,
  "metadata": {
    "colab": {
      "provenance": []
    },
    "kernelspec": {
      "name": "python3",
      "display_name": "Python 3"
    },
    "language_info": {
      "name": "python"
    }
  },
  "cells": [
    {
      "cell_type": "code",
      "execution_count": 9,
      "metadata": {
        "id": "V3ZzwchymhnL",
        "colab": {
          "base_uri": "https://localhost:8080/"
        },
        "outputId": "f7c7c41e-c23a-4531-f7ba-d4f7b7800d07"
      },
      "outputs": [
        {
          "output_type": "stream",
          "name": "stdout",
          "text": [
            "Solution vector x:\n",
            "[ 0.71599548  1.84646918 -0.80392747]\n"
          ]
        }
      ],
      "source": [
        "import numpy as np\n",
        "\n",
        "A = np.array([[0.713271, 4.701861, 0.669246],\n",
        "\t\t\t[8.058196, -3.968788, -5.423499],\n",
        "\t\t\t[5.505220, 4.388402, 7.253037]])\n",
        "\n",
        "B = np.array([8.654515, 2.801487, 6.213846 ])\n",
        "\n",
        "# Solve Ax = b for x\n",
        "x = np.linalg.solve(A, B)\n",
        "\n",
        "print(\"Solution vector x:\")\n",
        "print(x)"
      ]
    },
    {
      "cell_type": "code",
      "source": [],
      "metadata": {
        "id": "yMz5dxFl8SK_"
      },
      "execution_count": null,
      "outputs": []
    }
  ]
}